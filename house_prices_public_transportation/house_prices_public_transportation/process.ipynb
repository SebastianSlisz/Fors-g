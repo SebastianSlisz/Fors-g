{
 "cells": [
  {
   "cell_type": "code",
   "execution_count": 1,
   "metadata": {},
   "outputs": [],
   "source": [
    "# automatic reload \n",
    "%load_ext autoreload\n",
    "%autoreload 2\n",
    "\n",
    "import os\n",
    "import pandas as pd\n",
    "import process_funcs as funcs\n",
    "import json\n",
    "\n",
    "import matplotlib.pyplot as plt\n",
    "import plotly.graph_objects as go\n",
    "import plotly.express as px\n",
    "\n",
    "disable_api_call = True\n",
    "disable_writing_json = True\n",
    "save_figs = False"
   ]
  },
  {
   "cell_type": "code",
   "execution_count": 2,
   "metadata": {},
   "outputs": [],
   "source": [
    "# initialize the Google Maps API\n",
    "google_maps_api_key = 'INSERT_YOUR_API'\n",
    "gm = funcs.googleMaps(google_maps_api_key, disable_api_call)\n"
   ]
  },
  {
   "cell_type": "markdown",
   "metadata": {},
   "source": [
    "## Clean house price data"
   ]
  },
  {
   "cell_type": "code",
   "execution_count": 3,
   "metadata": {},
   "outputs": [
    {
     "name": "stdout",
     "output_type": "stream",
     "text": [
      "File does not exist\n"
     ]
    }
   ],
   "source": [
    "# file so big that it is not possible to upload to github\n",
    "\n",
    "if os.path.exists('data/raw_data_boligsiden.pkl'): \n",
    "    # Load the data\n",
    "    df_raw_data = pd.read_pickle('data/raw_data_boligsiden.pkl')\n",
    "\n",
    "    #Dropping columns that is unnecessary for analysis\n",
    "    df_cleaned_data = df_raw_data.drop(columns=['_links',\"address\",\"caseID\",\"caseUrl\",\"defaultImage\",\n",
    "                                    \"descriptionBody\",\"descriptionTitle\",\"highlighted\",\n",
    "                                    \"pageViews\",\"providerCaseID\",\"realEstate\",\n",
    "                                    \"realtor\",\"nextOpenHouse\",\"secondaryAddressType\",\n",
    "                                    \"images\",\"totalClickCount\",\"totalFavourites\",\"status\"])\n",
    "\n",
    "    #Creating coordinate columns\n",
    "    df_cleaned_data['coordinates'] = df_cleaned_data['coordinates'].apply(lambda x: tuple(val for key, val in x.items() if key not in ['type']))\n",
    "    # Splitting in longitude and latitude for easier plotting\n",
    "    df_cleaned_data['latitude'] = df_cleaned_data['coordinates'].apply(lambda x: x[0])\n",
    "    df_cleaned_data['longitude'] = df_cleaned_data['coordinates'].apply(lambda x: x[1])\n",
    "    # Turning to pickle\n",
    "    df_cleaned_data.to_pickle('cleaned_data_boligsiden.pkl')\n",
    "\n",
    "    fig = px.scatter_mapbox(df_cleaned_data, lat=\"latitude\",\n",
    "                            lon=\"longitude\", hover_name=\"slug\",\n",
    "                            center=dict(lat=55.6979, lon=12.50582),\n",
    "                            zoom=10, color ='addressType',\n",
    "                            labels = {'addressType':'Type of housing'})\n",
    "    fig\\\n",
    "        .update_layout(mapbox_style=\"open-street-map\",\n",
    "                    margin={\"r\":0,\"t\":0,\"l\":0,\"b\":0},\n",
    "                    title = 'Housing data from Boligsiden')\\\n",
    "        .update_traces(marker=dict(size=5))\n",
    "    fig.show()\n",
    "else: \n",
    "    print('File does not exist')"
   ]
  },
  {
   "cell_type": "markdown",
   "metadata": {},
   "source": [
    "# Coordinates for busroutes"
   ]
  },
  {
   "cell_type": "code",
   "execution_count": 4,
   "metadata": {},
   "outputs": [
    {
     "name": "stdout",
     "output_type": "stream",
     "text": [
      "Number of bus stops: 11550 Number of unique bus stops: 6977\n"
     ]
    }
   ],
   "source": [
    "# load the bus routes dictionary\n",
    "busroutes_dict = funcs.load_json_file('data/raw/busroutes_dict.json')\n",
    "\n",
    "for key in list(busroutes_dict.keys()):\n",
    "    if busroutes_dict[key] == []:\n",
    "        del busroutes_dict[key]\n",
    "    else:\n",
    "        for i in range(len(busroutes_dict[key])):\n",
    "            busroutes_dict[key][i] = busroutes_dict[key][i]['name']\n",
    "\n",
    "df = pd.DataFrame.from_dict(busroutes_dict, orient='index', ).T\n",
    "\n",
    "column_dict = pd.read_pickle('data/raw/busroutes.pkl').set_index('ref')['designation'].to_dict()\n",
    "\n",
    "\n",
    "df = df.rename(columns=column_dict, )\n",
    "df = df.stack().reset_index().rename(columns={'level_0':'dont_know','level_1':'bus_line',0:'bus_stop'})\n",
    "\n",
    "print(f'Number of bus stops: {len(df.bus_stop)}', f'Number of unique bus stops: {len(df.bus_stop.unique())}')"
   ]
  },
  {
   "cell_type": "markdown",
   "metadata": {},
   "source": [
    "# Google Maps Geocoding\n",
    "## Bus"
   ]
  },
  {
   "cell_type": "code",
   "execution_count": 5,
   "metadata": {},
   "outputs": [
    {
     "name": "stdout",
     "output_type": "stream",
     "text": [
      "API call disabled\n",
      "Writing to json disabled\n"
     ]
    }
   ],
   "source": [
    "# remove duplicates to reduce number of API calls\n",
    "df_stop = df.drop_duplicates(subset=['bus_stop'])\n",
    "\n",
    "# optional to disable API call\n",
    "if disable_api_call:\n",
    "    print('API call disabled')\n",
    "    outputdict = {}\n",
    "else: \n",
    "    # get the geocode for the bus stops\n",
    "    list_of_locations = df_stop['bus_stop'].to_list()[:] # define what bus stops to get the geocode for\n",
    "    outputdict = gm.get_geocode(list_of_locations) # get the geocode\n",
    "\n",
    "\n",
    "# optional to disable writing to json\n",
    "if disable_writing_json:\n",
    "    print('Writing to json disabled')\n",
    "else: \n",
    "    # Write the geocode to the json file\n",
    "    with open('busstop_geocode.json', 'w') as f:\n",
    "        json.dump(outputdict, f)"
   ]
  },
  {
   "cell_type": "markdown",
   "metadata": {},
   "source": [
    "## Metro"
   ]
  },
  {
   "cell_type": "code",
   "execution_count": 6,
   "metadata": {},
   "outputs": [
    {
     "name": "stdout",
     "output_type": "stream",
     "text": [
      "API call disabled\n",
      "Writing to json disabled\n",
      "Writing to json disabled\n"
     ]
    }
   ],
   "source": [
    "# Load in the metro data\n",
    "df_metro = pd.read_pickle('data/raw/metro.pkl')\n",
    "df_metro = df_metro.drop_duplicates(subset='MetroStation').reset_index(drop=True, )\n",
    "\n",
    "\n",
    "# optional to disable API call\n",
    "if disable_api_call:\n",
    "    print('API call disabled')\n",
    "    outputdict = {}\n",
    "else: \n",
    "    # get the geocode for the metro stops\n",
    "    metrostationsList = df_metro.MetroStation.to_list() # define what metro stops to get the geocode for\n",
    "    outputdict = gm.get_geocode(metrostationsList[0:0]) # get the geocode\n",
    "\n",
    "\n",
    "# optional to disable writing to json\n",
    "if disable_writing_json:\n",
    "    print('Writing to json disabled')\n",
    "else: \n",
    "    # Write the geocode to the json file\n",
    "    with open('data/raw/raw_metro_geocode.json', 'w') as f:\n",
    "        f.write(str(outputdict))\n",
    "\n",
    "### MANUALLY ADDING THE MISSING METRO STATIONS\n",
    "# Load the metro geocode\n",
    "with open('data/raw/raw_metro_geocode.json', 'r') as f:\n",
    "    metro = eval(f.read())\n",
    "\n",
    "# Manually add the missing metro stations\n",
    "manual_dict = {\n",
    "    'Havneholmen': (55.6603328,12.5619731),\n",
    "    'Trianglen': (55.6994798,12.5721997),\n",
    "    'Flintholm': (55.685743,12.4966872),\n",
    "    'Lindevang': (55.6834738,12.5105452),\n",
    "    'Forum': (55.6818238,12.5498556),\n",
    "}\n",
    "for key in metro.keys():\n",
    "    if (metro[key] is None) or (metro[key] == []):\n",
    "        metro[key] = manual_dict[key]\n",
    "    else:\n",
    "        metro[key] = tuple(metro[key][0]['geometry']['location'].values())\n",
    "\n",
    "if disable_writing_json:\n",
    "    print('Writing to json disabled')\n",
    "else:\n",
    "    # Write to json file\n",
    "    with open('data/raw/metro_geocode.json', 'w') as f:\n",
    "        f.write(str(metro))"
   ]
  },
  {
   "cell_type": "markdown",
   "metadata": {},
   "source": [
    "## Calculate distance between stops and houselistings"
   ]
  },
  {
   "cell_type": "code",
   "execution_count": 7,
   "metadata": {},
   "outputs": [],
   "source": [
    "### Load in coordinates for bus and metro\n",
    "busstopCordinates = funcs.load_json_file('data/raw/busstop_geocode.json') # Bus data\n",
    "\n",
    "with open('data/raw/metro_geocode.json', 'r') as f: # Metro data\n",
    "    metroCoordinates = eval(f.read())"
   ]
  },
  {
   "cell_type": "code",
   "execution_count": 8,
   "metadata": {},
   "outputs": [],
   "source": [
    "# Turn metro data into a dataframe\n",
    "df_metro = pd.DataFrame(index=list(metroCoordinates.keys()), data=list(metroCoordinates.values()), columns=['lat','lng'])\n",
    "df_metro['lat_long'] = df_metro.apply(lambda x: (x['lat'], x['lng']), axis=1)"
   ]
  },
  {
   "cell_type": "code",
   "execution_count": 9,
   "metadata": {},
   "outputs": [
    {
     "name": "stdout",
     "output_type": "stream",
     "text": [
      "559 out of 6977 is None or [] and 6418 is not None\n"
     ]
    }
   ],
   "source": [
    "#### Clean the bus data and turn it into a dataframe\n",
    "\n",
    "# since we do not have all coordinates, we need to remove the ones we do not have\n",
    "count = 0\n",
    "for key in busstopCordinates.keys():\n",
    "    if (busstopCordinates[key] is None) or (busstopCordinates[key] == []):\n",
    "        count += 1\n",
    "print(f'{count} out of {len(busstopCordinates)} is None or [] and {len(busstopCordinates) - count} is not None')\n",
    "\n",
    "busstopCordinates = {key: busstopCordinates[key] for key in busstopCordinates if ((busstopCordinates[key] is not None) or (busstopCordinates[key] != []))}\n",
    "\n",
    "busstopCordinatesClean = {}\n",
    "for key, val in busstopCordinates.items():\n",
    "    if isinstance(val, list):\n",
    "        if len(val) > 0:\n",
    "            busstopCordinatesClean[key] = tuple(val[0]['geometry']['location'].values())\n",
    "\n",
    "\n",
    "busCorDf = pd.DataFrame.from_dict(busstopCordinatesClean, orient='index').reset_index().rename(columns={'index':'bus_stop',0:'lat',1:'long'}).set_index('bus_stop', )\n",
    "# collect the two columns into one by making it a tuple\n",
    "busCorDf['lat_long'] = busCorDf.apply(lambda x: (x['lat'], x['long']), axis=1)\n",
    "\n",
    "busArray = busCorDf['lat_long'].values\n",
    "\n",
    "# something wrong with Fyrkatvej (Ring Syd)\n",
    "busCorDf = busCorDf.loc[busCorDf.index!='Fyrkatvej (Ring Syd)']\n",
    "\n",
    "# merge coordinates with the bus stops\n",
    "df = pd.merge(df, busCorDf['lat_long'], left_on='bus_stop', right_index=True, how='left').set_index('bus_stop')"
   ]
  },
  {
   "cell_type": "code",
   "execution_count": 10,
   "metadata": {},
   "outputs": [],
   "source": [
    "### Load in the house coordinates\n",
    "df_house = pd.read_pickle('data/cleaned_data_boligsiden.pkl')\n",
    "df_house = df_house.drop_duplicates(subset='coordinates').reset_index(drop=True, )"
   ]
  },
  {
   "cell_type": "markdown",
   "metadata": {},
   "source": [
    "## Ball Tree\n",
    "### Bus"
   ]
  },
  {
   "cell_type": "code",
   "execution_count": 11,
   "metadata": {},
   "outputs": [
    {
     "name": "stdout",
     "output_type": "stream",
     "text": [
      "Writing to json disabled\n"
     ]
    }
   ],
   "source": [
    "# Create a ball tree for the bus stops\n",
    "X = busCorDf['lat_long'].values\n",
    "ballTree_bus = funcs.ball_tree(coordinates=busCorDf['lat_long'])\n",
    "\n",
    "# Loop through the house coordinates and find the nearest bus stop\n",
    "ball_nearest_dict = {}\n",
    "for i, row in df_house.iterrows():\n",
    "    coodinate = row['coordinates']\n",
    "    idx, dist = ballTree_bus.tree_query(coodinate,)\n",
    "    ball_nearest_dict[coodinate] = {'Nearest':{'index': idx, 'Balltree distance': dist,'coordinate':X[idx]}}\n",
    "    idxs, dists = ballTree_bus.tree_query_radius(coodinate, radius=0.5)\n",
    "    ball_nearest_dict[coodinate]['Radius'] = {\n",
    "        'no_of_stops': len(idxs), \n",
    "        'index': [int(id) for id in idxs], \n",
    "        'Balltree distance': dists, \n",
    "        'coordinate': [tuple(X[i]) for i in idxs],\n",
    "        'bus_lines': list(df.loc[df['lat_long'].isin([X[i] for i in idxs]), 'bus_line'].unique()),\n",
    "        }\n",
    "\n",
    "if disable_writing_json:\n",
    "    print('Writing to json disabled')\n",
    "else:    \n",
    "    # write the nearest_dict to a json file\n",
    "    with open('data/nearest_dict.json', 'w') as f:\n",
    "        f.write(str(ball_nearest_dict))\n",
    "\n",
    "# Example of how to read the json file\n",
    "with open('data/nearest_dict.json', 'r') as f:\n",
    "    ball_nearest_dict = eval(f.read())"
   ]
  },
  {
   "cell_type": "markdown",
   "metadata": {},
   "source": [
    "### Metro"
   ]
  },
  {
   "cell_type": "code",
   "execution_count": 12,
   "metadata": {},
   "outputs": [
    {
     "name": "stdout",
     "output_type": "stream",
     "text": [
      "Writing to json disabled\n"
     ]
    }
   ],
   "source": [
    "X = df_metro['lat_long'].values\n",
    "ballTree_metro = funcs.ball_tree(coordinates=df_metro['lat_long'])\n",
    "\n",
    "nearest_metro_dict = {}\n",
    "for i, row in df_house.iterrows():\n",
    "    coodinate = row['coordinates']\n",
    "    idx, dist = ballTree_metro.tree_query(coodinate,)\n",
    "    nearest_metro_dict[coodinate] = {'Nearest':{'index': idx, 'Balltree distance': dist,'coordinate':X[idx]}}\n",
    "    idxs, dists = ballTree_metro.tree_query_radius(coodinate, radius=0.5)\n",
    "    nearest_metro_dict[coodinate]['Radius'] = {\n",
    "        'no_of_stops': len(idxs), \n",
    "        'index': [int(id) for id in idxs], \n",
    "        'Balltree distance': dists, \n",
    "        'coordinate': [tuple(X[i]) for i in idxs],\n",
    "        }\n",
    "\n",
    "if disable_writing_json:\n",
    "    print('Writing to json disabled')\n",
    "else:\n",
    "    # write the nearest_dict to a json file\n",
    "    with open('data/nearest_metro_dict.json', 'w') as f:\n",
    "        f.write(str(nearest_metro_dict))\n",
    "\n",
    "# Example of how to read the json file\n",
    "with open('data/nearest_metro_dict.json', 'r') as f:\n",
    "    nearest_metro_dict = eval(f.read())\n"
   ]
  },
  {
   "cell_type": "markdown",
   "metadata": {},
   "source": [
    "## Calculate Distance from house to Rådhuspladsen"
   ]
  },
  {
   "cell_type": "code",
   "execution_count": 13,
   "metadata": {},
   "outputs": [
    {
     "name": "stdout",
     "output_type": "stream",
     "text": [
      "Writing to json disabled\n"
     ]
    }
   ],
   "source": [
    "# coordinates for the city hall\n",
    "raedhus_coordinates = (55.6759172,12.5665536)\n",
    "\n",
    "# set a default non-possible distance to the city hall as default\n",
    "df_house['Distance_to_centre'] = -1\n",
    "for i, row in df_house.iterrows():\n",
    "    df_house.loc[i,'Distance_to_centre'] = funcs.calc_distance(row['coordinates'], raedhus_coordinates)\n",
    "\n",
    "# turn the coordinates into a dictionary\n",
    "dist_to_raedhus = df_house.set_index('coordinates', )['Distance_to_centre'].to_dict()\n",
    "\n",
    "if disable_writing_json:\n",
    "    print('Writing to json disabled')\n",
    "else: \n",
    "    # write the nearest_dict to a json file\n",
    "    with open('data/dist_to_raedhus.json', 'w') as f:\n",
    "        f.write(str(dist_to_raedhus))\n",
    "\n",
    "with open('data/dist_to_raedhus.json', 'r') as f:\n",
    "    dist_to_raedhus = eval(f.read())\n"
   ]
  },
  {
   "cell_type": "markdown",
   "metadata": {},
   "source": [
    "## Plot example of nearest transit stop"
   ]
  },
  {
   "cell_type": "code",
   "execution_count": 14,
   "metadata": {},
   "outputs": [],
   "source": [
    "def in_out_circle(ball_tree, coordinates, inner_radius, outer_radius):\n",
    "    idx_in, dist_in = ball_tree.tree_query_radius(coordinates, radius=inner_radius)\n",
    "    idx_out, dist_out = ball_tree.tree_query_radius(coordinates, radius=outer_radius)\n",
    "    # get the coordinates for the inner circle\n",
    "    in_lat = [i[0] for i in busCorDf['lat_long'].values[idx_in]]\n",
    "    in_long = [i[1] for i in busCorDf['lat_long'].values[idx_in]]\n",
    "    # remove the ones that are in the inner circle\n",
    "    idx_out = [i for i in idx_out if i not in idx_in]\n",
    "    # get the coordinates for the outer circle\n",
    "    out_lat = [i[0] for i in busCorDf['lat_long'].values[idx_out]]\n",
    "    out_long = [i[1] for i in busCorDf['lat_long'].values[idx_out]]\n",
    "    return in_lat, in_long, out_lat, out_long\n",
    "\n",
    "# define coodinate for the house\n",
    "house_coordinate = df_house['coordinates'].values[0]\n",
    "#\n",
    "(bus_in_lat, bus_in_long, \n",
    " bus_out_lat, bus_out_long) = in_out_circle(ballTree_bus, house_coordinate, inner_radius=0.5, outer_radius=1)\n",
    "(metro_in_lat, metro_in_long, \n",
    " metro_out_lat, metro_out_long) = in_out_circle(ballTree_metro, house_coordinate, inner_radius=0.5, outer_radius=1)\n"
   ]
  },
  {
   "cell_type": "code",
   "execution_count": 15,
   "metadata": {},
   "outputs": [
    {
     "name": "stderr",
     "output_type": "stream",
     "text": [
      "/var/folders/yb/hc1k3b754099lzy1_y8dq0xc0000gn/T/ipykernel_13904/122856066.py:19: UserWarning: Setting the 'color' property will override the edgecolor or facecolor properties.\n",
      "  circle = plt.Circle(\n"
     ]
    },
    {
     "data": {
      "image/png": "[encoded data removed]",
      "text/plain": [
       "<Figure size 640x480 with 1 Axes>"
      ]
     },
     "metadata": {},
     "output_type": "display_data"
    }
   ],
   "source": [
    "houseCoordinate_lng = house_coordinate[1]\n",
    "houseCoordinate_lat = house_coordinate[0]\n",
    "\n",
    "# create a figure and axis\n",
    "fig, ax = plt.subplots()\n",
    "\n",
    "# remove the spines\n",
    "ax.spines['top'].set_visible(False)\n",
    "ax.spines['right'].set_visible(False)\n",
    "\n",
    "# set the labels\n",
    "ax.set_xlabel('Latitude')\n",
    "ax.set_ylabel('Longitude')\n",
    "\n",
    "# make everything outside the circle grey\n",
    "ax.set_facecolor('lightgrey')\n",
    "\n",
    "# add the circle with the radius of 500m\n",
    "circle = plt.Circle(\n",
    "    (houseCoordinate_lat, houseCoordinate_lng), 0.0055, # 500m\n",
    "    color='white', facecolor='white',fill=True)\n",
    "ax.add_patch(circle)\n",
    "\n",
    "# add arrow from center to the edge\n",
    "ax.arrow(x=houseCoordinate_lat, y=houseCoordinate_lng, \n",
    "         dx=0.0055, dy=0,length_includes_head=True, \n",
    "         width=0.00015, head_width=0.001, head_length=0.00075, \n",
    "            fc='black', ec='black'\n",
    "         )\n",
    "\n",
    "# add text below the arrow\n",
    "ax.text(\n",
    "    houseCoordinate_lat+0.00275, houseCoordinate_lng+0.0005, \n",
    "    '500m', fontsize=12)\n",
    "\n",
    "# remove labels\n",
    "ax.tick_params(left = False, right = False , labelleft = False , \n",
    "                labelbottom = False, bottom = False) \n",
    "\n",
    "# plot stops and house\n",
    "ax.scatter(bus_in_lat, bus_in_long, c='black')\n",
    "ax.scatter(bus_out_lat, bus_out_long, c='grey')\n",
    "ax.scatter(houseCoordinate_lat, houseCoordinate_lng, c='r')\n",
    "\n",
    "plt.show()\n",
    "if save_figs:\n",
    "    fig.savefig('figs/nearest_neighbour.png', dpi=300, bbox_inches='tight')"
   ]
  }
 ],
 "metadata": {
  "kernelspec": {
   "display_name": "base",
   "language": "python",
   "name": "python3"
  },
  "language_info": {
   "codemirror_mode": {
    "name": "ipython",
    "version": 3
   },
   "file_extension": ".py",
   "mimetype": "text/x-python",
   "name": "python",
   "nbconvert_exporter": "python",
   "pygments_lexer": "ipython3",
   "version": "3.8.16"
  }
 },
 "nbformat": 4,
 "nbformat_minor": 2
}
